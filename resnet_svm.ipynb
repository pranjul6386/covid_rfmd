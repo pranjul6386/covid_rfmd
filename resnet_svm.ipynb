{
  "nbformat": 4,
  "nbformat_minor": 0,
  "metadata": {
    "colab": {
      "name": "resnet-svm.ipynb",
      "provenance": [],
      "collapsed_sections": [],
      "mount_file_id": "1pm2qjJlvg71JxiKAxfdA-ZVYUeuRMRi_",
      "authorship_tag": "ABX9TyNF0xPCJ8z3vcDdCy+6+Ig8",
      "include_colab_link": true
    },
    "kernelspec": {
      "name": "python3",
      "display_name": "Python 3"
    },
    "language_info": {
      "name": "python"
    },
    "accelerator": "GPU"
  },
  "cells": [
    {
      "cell_type": "markdown",
      "metadata": {
        "id": "view-in-github",
        "colab_type": "text"
      },
      "source": [
        "<a href=\"https://colab.research.google.com/github/pranjul6386/covid_rfmd/blob/master/resnet_svm.ipynb\" target=\"_parent\"><img src=\"https://colab.research.google.com/assets/colab-badge.svg\" alt=\"Open In Colab\"/></a>"
      ]
    },
    {
      
      "cell_type": "code",
      "metadata": {
        "id": "6jGfSnL3N3Ff"
      },
      "source": [
        "!unzip \"/content/drive/My Drive/kaggle_notebooks/RMFD.zip\""
      ],
      "execution_count": null,
      "outputs": []
    },
    {
      "cell_type": "code",
      "metadata": {
        "id": "tVzG_U5BOlz_"
      },
      "source": [
        "import os\n",
        "import numpy as np\n",
        "import cv2\n",
        "import keras\n",
        "from tensorflow.keras.applications.resnet50 import ResNet50\n",
        "import matplotlib.pyplot as plt\n",
        "from keras.models import Model\n",
        "from keras.layers import *\n",
        "from keras import optimizers\n",
        "from tensorflow.keras.applications.resnet50 import preprocess_input, decode_predictions\n",
        "from keras.layers import Input, Dense\n",
        "from keras.models import Sequential\n",
        "from keras.layers import Dense\n",
        "from keras.layers import Dropout\n",
        "from keras.layers import Flatten\n",
        "from keras.layers.convolutional import Conv2D\n",
        "from keras.layers.convolutional import MaxPooling2D\n",
        "from keras.utils import np_utils\n",
        "from sklearn.preprocessing import LabelEncoder\n",
        "from keras.callbacks import ModelCheckpoint"
      ],
      "execution_count": null,
      "outputs": []
    },
    {
      "cell_type": "code",
      "metadata": {
        "colab": {
          "base_uri": "https://localhost:8080/"
        },
        "id": "F50L5W0COlu3",
        "outputId": "b0dfaa9d-3311-420f-e38c-7fc4d1f0f087"
      },
      "source": [
        "img = cv2.imread('/content/images/nomask/benxi/0_0_benxi_0013.jpg', cv2.IMREAD_UNCHANGED)\n",
        " \n",
        "# get dimensions of image\n",
        "dimensions = img.shape\n",
        "\n",
        " \n",
        "# height, width, number of channels in image\n",
        "height = img.shape[0]\n",
        "width = img.shape[1]\n",
        "channels = img.shape[2]\n",
        " \n",
        "print('Image Dimension    : ',dimensions)\n",
        "print('Image Height       : ',height)\n",
        "print('Image Width        : ',width)\n",
        "print('Number of Channels : ',channels)"
      ],
      "execution_count": null,
      "outputs": [
        {
          "output_type": "stream",
          "text": [
            "Image Dimension    :  (127, 125, 3)\n",
            "Image Height       :  127\n",
            "Image Width        :  125\n",
            "Number of Channels :  3\n"
          ],
          "name": "stdout"
        }
      ]
    },
    {
      "cell_type": "code",
      "metadata": {
        "id": "ofJ4_OroPAEE"
      },
      "source": [
        "list_images=[]\n",
        "labels=[]"
      ],
      "execution_count": null,
      "outputs": []
    },
    {
      "cell_type": "code",
      "metadata": {
        "id": "pnHxB8CTStXB"
      },
      "source": [
        "for filename in os.listdir(\"/content/images/nomask\"):\n",
        "  for img in os.listdir(\"/content/images/nomask\" + \"/\" + filename):\n",
        "    path= str(\"/content/images/nomask\" + \"/\"+ filename + \"/\" + img)\n",
        "    try:\n",
        "\n",
        "      image=cv2.imread(path)\n",
        "    except:\n",
        "      print(\"file not found error\")\n",
        "\n",
        "      continue\n",
        "    image=cv2.resize(image,(224,224))\n",
        "    arr=np.array(image)\n",
        "    list_images.append(arr)\n",
        "    labels.append(\"unmasked\")\n",
        "    if len(list_images)>2000:\n",
        "      break"
      ],
      "execution_count": null,
      "outputs": []
    },
    {
      "cell_type": "code",
      "metadata": {
        "id": "Vbf4rq03Syx5"
      },
      "source": [
        "for filename in os.listdir(\"/content/images/mask\"):\n",
        "  for img in os.listdir(\"/content/images/mask\" + \"/\" + filename):\n",
        "    path= str(\"/content/images/mask\" + \"/\"+ filename + \"/\" + img)\n",
        "    try:\n",
        "\n",
        "      image=cv2.imread(path)\n",
        "    except:\n",
        "      print(\"file not found error\")\n",
        "\n",
        "      continue\n",
        "    image=cv2.resize(image,(224,224))\n",
        "    arr=np.array(image)\n",
        "    list_images.append(arr)\n",
        "    labels.append(\"masked\")"
      ],
      "execution_count": null,
      "outputs": []
    },
    {
      "cell_type": "code",
      "metadata": {
        "colab": {
          "base_uri": "https://localhost:8080/"
        },
        "id": "40GhXrolS-yq",
        "outputId": "9bd2dc06-65b6-4b61-e6f9-bbb151ff1c2c"
      },
      "source": [
        "len(list_images)"
      ],
      "execution_count": null,
      "outputs": [
        {
          "output_type": "execute_result",
          "data": {
            "text/plain": [
              "4653"
            ]
          },
          "metadata": {
            "tags": []
          },
          "execution_count": 8
        }
      ]
    },
    {
      "cell_type": "code",
      "metadata": {
        "id": "Fvsu-Hf2Uhbm"
      },
      "source": [
        "list_images"
      ],
      "execution_count": null,
      "outputs": []
    },
    {
      "cell_type": "code",
      "metadata": {
        "colab": {
          "base_uri": "https://localhost:8080/"
        },
        "id": "UbIDPKSxTCYS",
        "outputId": "b2a6a1cd-5e18-4629-a45f-0dfda7df676d"
      },
      "source": [
        "len(labels)"
      ],
      "execution_count": null,
      "outputs": [
        {
          "output_type": "execute_result",
          "data": {
            "text/plain": [
              "4653"
            ]
          },
          "metadata": {
            "tags": []
          },
          "execution_count": 10
        }
      ]
    },
    {
      "cell_type": "code",
      "metadata": {
        "id": "Dqs5Z8KOS6T0"
      },
      "source": [
        "y_train=np.array(labels)\n",
        "labelencoder=LabelEncoder()\n",
        "\n",
        "y_train=labelencoder.fit_transform(y_train)"
      ],
      "execution_count": null,
      "outputs": []
    },
    {
      "cell_type": "code",
      "metadata": {
        "colab": {
          "base_uri": "https://localhost:8080/"
        },
        "id": "Y_zbBEPVTGLt",
        "outputId": "cc94a5ff-caae-41b1-ca87-296c4fb761cc"
      },
      "source": [
        "y_train.shape"
      ],
      "execution_count": null,
      "outputs": [
        {
          "output_type": "execute_result",
          "data": {
            "text/plain": [
              "(4653,)"
            ]
          },
          "metadata": {
            "tags": []
          },
          "execution_count": 13
        }
      ]
    },
    {
      "cell_type": "code",
      "metadata": {
        "id": "hJu7vtnmTJ-L"
      },
      "source": [
        "x_train=np.array(list_images)"
      ],
      "execution_count": null,
      "outputs": []
    },
    {
      "cell_type": "code",
      "metadata": {
        "colab": {
          "base_uri": "https://localhost:8080/"
        },
        "id": "J-gpbZmuTOBR",
        "outputId": "6fcb3200-de7b-44d6-e875-ad7fd2c6f88d"
      },
      "source": [
        "x_train.shape"
      ],
      "execution_count": null,
      "outputs": [
        {
          "output_type": "execute_result",
          "data": {
            "text/plain": [
              "(4653, 224, 224, 3)"
            ]
          },
          "metadata": {
            "tags": []
          },
          "execution_count": 15
        }
      ]
    },
    {
      "cell_type": "code",
      "metadata": {
        "colab": {
          "base_uri": "https://localhost:8080/"
        },
        "id": "hKaNj40fSGcZ",
        "outputId": "bf1f2252-67c3-4190-b496-15a5622a4f80"
      },
      "source": [
        "!unzip \"/content/drive/MyDrive/kaggle_notebooks/resnet50_weights_tf_dim_ordering_tf_kernels.h5.zip\""
      ],
      "execution_count": null,
      "outputs": [
        {
          "output_type": "stream",
          "text": [
            "Archive:  /content/drive/MyDrive/kaggle_notebooks/resnet50_weights_tf_dim_ordering_tf_kernels.h5.zip\n",
            "  inflating: resnet50_weights_tf_dim_ordering_tf_kernels.h5  \n"
          ],
          "name": "stdout"
        }
      ]
    },
    {
      "cell_type": "code",
      "metadata": {
        "colab": {
          "base_uri": "https://localhost:8080/"
        },
        "id": "Enst637mVY-p",
        "outputId": "f9a2a6d8-6a41-4dc7-e010-c2b77b72be4a"
      },
      "source": [
        "!pip install resnet"
      ],
      "execution_count": null,
      "outputs": [
        {
          "output_type": "stream",
          "text": [
            "Collecting resnet\n",
            "  Downloading https://files.pythonhosted.org/packages/c2/5b/1a89d31126c50cea7b29db3772a00862fa72b54f0970032766c914091ee0/resnet-0.1.tar.gz\n",
            "Requirement already satisfied: keras>=2.0 in /usr/local/lib/python3.7/dist-packages (from resnet) (2.4.3)\n",
            "Requirement already satisfied: scipy>=0.14 in /usr/local/lib/python3.7/dist-packages (from keras>=2.0->resnet) (1.4.1)\n",
            "Requirement already satisfied: h5py in /usr/local/lib/python3.7/dist-packages (from keras>=2.0->resnet) (3.1.0)\n",
            "Requirement already satisfied: numpy>=1.9.1 in /usr/local/lib/python3.7/dist-packages (from keras>=2.0->resnet) (1.19.5)\n",
            "Requirement already satisfied: pyyaml in /usr/local/lib/python3.7/dist-packages (from keras>=2.0->resnet) (3.13)\n",
            "Requirement already satisfied: cached-property; python_version < \"3.8\" in /usr/local/lib/python3.7/dist-packages (from h5py->keras>=2.0->resnet) (1.5.2)\n",
            "Building wheels for collected packages: resnet\n",
            "  Building wheel for resnet (setup.py) ... \u001b[?25l\u001b[?25hdone\n",
            "  Created wheel for resnet: filename=resnet-0.1-cp37-none-any.whl size=10044 sha256=ce85f0502275e00f4b5ac120dfbf9ec69248051b906ff6b67b5c5f800283d082\n",
            "  Stored in directory: /root/.cache/pip/wheels/f6/15/ce/e3fe2b3a504698765a1b2dfb05ed4a91fcc0f38c8e57568658\n",
            "Successfully built resnet\n",
            "Installing collected packages: resnet\n",
            "Successfully installed resnet-0.1\n"
          ],
          "name": "stdout"
        }
      ]
    },
    {
      "cell_type": "code",
      "metadata": {
        "colab": {
          "base_uri": "https://localhost:8080/"
        },
        "id": "-7847lNuWGd8",
        "outputId": "c376ec8d-ce69-4097-cc89-d7836fa63d92"
      },
      "source": [
        "!pip list | grep Keras"
      ],
      "execution_count": null,
      "outputs": [
        {
          "output_type": "stream",
          "text": [
            "Keras                         2.4.3              \n",
            "Keras-Preprocessing           1.1.2              \n"
          ],
          "name": "stdout"
        }
      ]
    },
    {
      "cell_type": "code",
      "metadata": {
        "id": "zEaUbr7YWOGd"
      },
      "source": [
        "!pip uninstall Keras\n",
        "!pip install Keras==2.3.1\n",
        "\n",
        "!pip uninstall Keras-Applications\n",
        "!pip install Keras-Applications==1.0.8\n",
        "\n",
        "!pip uninstall Keras-Preprocessing\n",
        "!pip install Keras-Preprocessing==1.1.0"
      ],
      "execution_count": null,
      "outputs": []
    },
    {
      "cell_type": "markdown",
      "metadata": {
        "id": "XekT82lAXqMD"
      },
      "source": [
        "# FEATURE EXTRACTION"
      ]
    },
    {
      "cell_type": "code",
      "metadata": {
        "colab": {
          "base_uri": "https://localhost:8080/"
        },
        "id": "hWeOkixxPjJt",
        "outputId": "ef491190-4b0e-4dc2-c21a-92a5c3f0dabc"
      },
      "source": [
        "import time\n",
        "import numpy as np\n",
        "import tensorflow as tf\n",
        "import tensorflow.keras.applications.resnet50\n",
        "from tensorflow.python.keras.preprocessing import image\n",
        "from tensorflow.python.keras.models import Model\n",
        "from tensorflow.keras.applications.resnet50 import preprocess_input\n",
        "#from tensorflow.python.keras.applications.inception_v3 import preprocess_input\n",
        "#from tensorflow.python.keras.applications.inception_resnet_v2 import preprocess_input\n",
        "\n",
        "resnet_weights_path = '/content/resnet50_weights_tf_dim_ordering_tf_kernels.h5'\n",
        "#inceptionv3_weights_path = '../input/keras-pretrained-models/inception_v3_weights_tf_dim_ordering_tf_kernels_notop.h5'\n",
        "#inceptionresnetv2_weights_path = '../input/keras-pretrained-models/inception_resnet_v2_weights_tf_dim_ordering_tf_kernels_notop.h5'\n",
        "\n",
        "base_model = tf.keras.applications.resnet50.ResNet50(weights='imagenet')\n",
        "model = Model(inputs=base_model.input, outputs=base_model.get_layer('avg_pool').output)\n",
        "\n"
      ],
      "execution_count": null,
      "outputs": [
        {
          "output_type": "stream",
          "text": [
            "Downloading data from https://storage.googleapis.com/tensorflow/keras-applications/resnet/resnet50_weights_tf_dim_ordering_tf_kernels.h5\n",
            "102973440/102967424 [==============================] - 1s 0us/step\n"
          ],
          "name": "stdout"
        }
      ]
    },
    {
      "cell_type": "code",
      "metadata": {
        "id": "CapeR6rGYSEO"
      },
      "source": [
        "t=model.predict(x_train)"
      ],
      "execution_count": null,
      "outputs": []
    },
    {
      "cell_type": "code",
      "metadata": {
        "colab": {
          "base_uri": "https://localhost:8080/"
        },
        "id": "xoLThVTtaJZI",
        "outputId": "c3a99e58-dc30-4c0c-be22-55d2b4ca2045"
      },
      "source": [
        "t.shape"
      ],
      "execution_count": null,
      "outputs": [
        {
          "output_type": "execute_result",
          "data": {
            "text/plain": [
              "(4653, 2048)"
            ]
          },
          "metadata": {
            "tags": []
          },
          "execution_count": 23
        }
      ]
    },
    {
      "cell_type": "code",
      "metadata": {
        "colab": {
          "base_uri": "https://localhost:8080/"
        },
        "id": "v4VND797aPl_",
        "outputId": "fd8b0b17-9765-449d-8600-b66de08a532f"
      },
      "source": [
        "y_train.shape"
      ],
      "execution_count": null,
      "outputs": [
        {
          "output_type": "execute_result",
          "data": {
            "text/plain": [
              "(4653,)"
            ]
          },
          "metadata": {
            "tags": []
          },
          "execution_count": 24
        }
      ]
    },
    {
      "cell_type": "code",
      "metadata": {
        "id": "eZw1ZiJ4aWfg"
      },
      "source": [
        "model.summary()"
      ],
      "execution_count": null,
      "outputs": []
    },
    {
      "cell_type": "code",
      "metadata": {
        "id": "XLrqFlCqal5s"
      },
      "source": [
        "from sklearn.model_selection import train_test_split\n",
        "\n",
        "Xtrain, Xtest, Ytrain, Ytest = train_test_split(t, y_train, test_size=0.2)"
      ],
      "execution_count": null,
      "outputs": []
    },
    {
      "cell_type": "markdown",
      "metadata": {
        "id": "jkVbuR8wWjpq"
      },
      "source": [
        "# SUPPORT VECTOR **MACHINES**"
      ]
    },
    {
      "cell_type": "code",
      "metadata": {
        "colab": {
          "base_uri": "https://localhost:8080/"
        },
        "id": "oM9i3PdDabMC",
        "outputId": "66404cb3-d383-4420-9ac2-77b944d37c3e"
      },
      "source": [
        "import time\n",
        "start = time.time()\n",
        "\n",
        "from sklearn.svm import SVC\n",
        "clf = SVC()\n",
        "clf.fit(Xtrain, Ytrain)\n",
        "preds = clf.predict(Xtest)\n",
        "\n",
        "print('Running time: %.4f seconds' % (time.time()-start))"
      ],
      "execution_count": null,
      "outputs": [
        {
          "output_type": "stream",
          "text": [
            "Running time: 3.5963 seconds\n"
          ],
          "name": "stdout"
        }
      ]
    },
    {
      "cell_type": "code",
      "metadata": {
        "colab": {
          "base_uri": "https://localhost:8080/"
        },
        "id": "fXXH1DFCa2U0",
        "outputId": "3e3d8b58-57a4-40b6-e1c7-c113d7a4dc72"
      },
      "source": [
        "from sklearn.metrics import accuracy_score, confusion_matrix, classification_report\n",
        "print(accuracy_score(Ytest, preds))"
      ],
      "execution_count": null,
      "outputs": [
        {
          "output_type": "stream",
          "text": [
            "0.9957035445757251\n"
          ],
          "name": "stdout"
        }
      ]
    },
    {
      "cell_type": "code",
      "metadata": {
        "colab": {
          "base_uri": "https://localhost:8080/",
          "height": 312
        },
        "id": "X0luGf-ma8DC",
        "outputId": "c63209fa-7b67-4121-aea4-44eaba010379"
      },
      "source": [
        "import seaborn as sns\n",
        "cm = confusion_matrix(Ytest, preds)\n",
        "sns.heatmap(cm, annot=True, cbar=False)\n",
        "plt.xlabel('Predicted label')\n",
        "plt.ylabel('True label')\n",
        "plt.title('Confusion Matrix')"
      ],
      "execution_count": null,
      "outputs": [
        {
          "output_type": "execute_result",
          "data": {
            "text/plain": [
              "Text(0.5, 1.0, 'Confusion Matrix')"
            ]
          },
          "metadata": {
            "tags": []
          },
          "execution_count": 34
        },
        {
          "output_type": "display_data",
          "data": {
            "image/png": "[encoded data removed]",
            "text/plain": [
              "<Figure size 432x288 with 1 Axes>"
            ]
          },
          "metadata": {
            "tags": [],
            "needs_background": "light"
          }
        }
      ]
    },
    {
      "cell_type": "code",
      "metadata": {
        "colab": {
          "base_uri": "https://localhost:8080/"
        },
        "id": "Gb2BiyaGbB8g",
        "outputId": "9b8ad489-d9c0-4111-967b-6f44bdb5a3ac"
      },
      "source": [
        "from sklearn.metrics import classification_report\n",
        "print(classification_report(Ytest, preds))"
      ],
      "execution_count": null,
      "outputs": [
        {
          "output_type": "stream",
          "text": [
            "              precision    recall  f1-score   support\n",
            "\n",
            "           0       1.00      0.99      1.00       446\n",
            "           1       0.99      1.00      1.00       485\n",
            "\n",
            "    accuracy                           1.00       931\n",
            "   macro avg       1.00      1.00      1.00       931\n",
            "weighted avg       1.00      1.00      1.00       931\n",
            "\n"
          ],
          "name": "stdout"
        }
      ]
    },
    {
      "cell_type": "code",
      "metadata": {
        "colab": {
          "base_uri": "https://localhost:8080/"
        },
        "id": "bRFp7W-mcSkE",
        "outputId": "af9343b1-1a81-4b94-f13a-43011aa35fb0"
      },
      "source": [
        "Ytrain.reshape(-1,1)"
      ],
      "execution_count": null,
      "outputs": [
        {
          "output_type": "execute_result",
          "data": {
            "text/plain": [
              "array([[1],\n",
              "       [1],\n",
              "       [1],\n",
              "       ...,\n",
              "       [1],\n",
              "       [0],\n",
              "       [0]])"
            ]
          },
          "metadata": {
            "tags": []
          },
          "execution_count": 71
        }
      ]
    },
    {
      "cell_type": "code",
      "metadata": {
        "colab": {
          "base_uri": "https://localhost:8080/"
        },
        "id": "-i0ggjqLccAr",
        "outputId": "f8146dc9-2980-4210-a12e-c4b207dce23f"
      },
      "source": [
        "print(Ytrain.shape)\n",
        "print(Xtrain.shape)"
      ],
      "execution_count": null,
      "outputs": [
        {
          "output_type": "stream",
          "text": [
            "(3722,)\n",
            "(3722, 2048)\n"
          ],
          "name": "stdout"
        }
      ]
    },
    {
      "cell_type": "markdown",
      "metadata": {
        "id": "UeIOEH_bWwMC"
      },
      "source": [
        "# Decision tree classsifier"
      ]
    },
    {
      "cell_type": "code",
      "metadata": {
        "colab": {
          "base_uri": "https://localhost:8080/"
        },
        "id": "t8C2hxYmbTdh",
        "outputId": "fb0213ac-aa04-4786-a744-490b620ad1a0"
      },
      "source": [
        "from sklearn.tree import DecisionTreeClassifier\n",
        "clf_des = DecisionTreeClassifier(max_depth =3, random_state = 42)\n",
        "clf_des.fit(Xtrain, Ytrain)\n"
      ],
      "execution_count": null,
      "outputs": [
        {
          "output_type": "execute_result",
          "data": {
            "text/plain": [
              "DecisionTreeClassifier(ccp_alpha=0.0, class_weight=None, criterion='gini',\n",
              "                       max_depth=3, max_features=None, max_leaf_nodes=None,\n",
              "                       min_impurity_decrease=0.0, min_impurity_split=None,\n",
              "                       min_samples_leaf=1, min_samples_split=2,\n",
              "                       min_weight_fraction_leaf=0.0, presort='deprecated',\n",
              "                       random_state=42, splitter='best')"
            ]
          },
          "metadata": {
            "tags": []
          },
          "execution_count": 73
        }
      ]
    },
    {
      "cell_type": "code",
      "metadata": {
        "id": "SXy7f1V2cIFV"
      },
      "source": [
        "preds_des=clf_des.predict(Xtest)"
      ],
      "execution_count": null,
      "outputs": []
    },
    {
      "cell_type": "code",
      "metadata": {
        "id": "OL53VCwJhibA",
        "colab": {
          "base_uri": "https://localhost:8080/",
          "height": 463
        },
        "outputId": "6ccecc2c-29e7-47b4-9798-aa5c77b76fde"
      },
      "source": [
        "from sklearn.metrics import accuracy_score, confusion_matrix, classification_report\n",
        "print(accuracy_score(Ytest, preds_des))\n",
        "cm1 = confusion_matrix(Ytest, preds_des)\n",
        "sns.heatmap(cm1, annot=True, cbar=False)\n",
        "plt.xlabel('Predicted label')\n",
        "plt.ylabel('True label')\n",
        "plt.title('Confusion Matrix')\n",
        "print(classification_report(Ytest, preds_des))"
      ],
      "execution_count": null,
      "outputs": [
        {
          "output_type": "stream",
          "text": [
            "0.9785177228786252\n",
            "              precision    recall  f1-score   support\n",
            "\n",
            "           0       0.98      0.97      0.98       436\n",
            "           1       0.98      0.98      0.98       495\n",
            "\n",
            "    accuracy                           0.98       931\n",
            "   macro avg       0.98      0.98      0.98       931\n",
            "weighted avg       0.98      0.98      0.98       931\n",
            "\n"
          ],
          "name": "stdout"
        },
        {
          "output_type": "display_data",
          "data": {
            "image/png": "[encoded data removed]",
            "text/plain": [
              "<Figure size 432x288 with 1 Axes>"
            ]
          },
          "metadata": {
            "tags": [],
            "needs_background": "light"
          }
        }
      ]
    },
    {
      "cell_type": "markdown",
      "metadata": {
        "id": "2jHcAIsFW17I"
      },
      "source": [
        "# RaNDOM FOREST CLASSIFIER"
      ]
    },
    {
      "cell_type": "code",
      "metadata": {
        "colab": {
          "base_uri": "https://localhost:8080/"
        },
        "id": "ttqDT0dPh2eq",
        "outputId": "417b3e44-1a9a-4dda-e39b-cdcf09d75f69"
      },
      "source": [
        "from sklearn.ensemble import RandomForestClassifier\n",
        "#create a new random forest classifier\n",
        "rf = RandomForestClassifier()\n",
        "#create a dictionary of all values we want to test for n_estimators\n",
        "params_rf = {'n_estimators': [50, 100, 200]}\n",
        "#use gridsearch to test all values for n_estimators\n",
        "rf_gs = GridSearchCV(rf, params_rf, cv=5)\n",
        "#fit model to training data\n",
        "rf_gs.fit(Xtrain, Ytrain)\n",
        "\n",
        "#save best model\n",
        "rf_best = rf_gs.best_estimator_\n",
        "#check best n_estimators value\n",
        "print(rf_gs.best_params_)"
      ],
      "execution_count": null,
      "outputs": [
        {
          "output_type": "stream",
          "text": [
            "{'n_estimators': 100}\n"
          ],
          "name": "stdout"
        }
      ]
    },
    {
      "cell_type": "code",
      "metadata": {
        "colab": {
          "base_uri": "https://localhost:8080/",
          "height": 446
        },
        "id": "3Iu3H91WrA6p",
        "outputId": "22c7fca8-337b-4cfa-f17b-51108a7bfc1e"
      },
      "source": [
        "preds_rf=rf_best.predict(Xtest)\n",
        "cm4 = confusion_matrix(Ytest, preds_rf)\n",
        "sns.heatmap(cm4, annot=True, cbar=False)\n",
        "plt.xlabel('Predicted label')\n",
        "plt.ylabel('True label')\n",
        "plt.title('Confusion Matrix')\n",
        "print(classification_report(Ytest, preds_rf))"
      ],
      "execution_count": null,
      "outputs": [
        {
          "output_type": "stream",
          "text": [
            "              precision    recall  f1-score   support\n",
            "\n",
            "           0       1.00      0.99      0.99       436\n",
            "           1       0.99      1.00      0.99       495\n",
            "\n",
            "    accuracy                           0.99       931\n",
            "   macro avg       0.99      0.99      0.99       931\n",
            "weighted avg       0.99      0.99      0.99       931\n",
            "\n"
          ],
          "name": "stdout"
        },
        {
          "output_type": "display_data",
          "data": {
            "image/png": "[encoded data removed]",
            "text/plain": [
              "<Figure size 432x288 with 1 Axes>"
            ]
          },
          "metadata": {
            "tags": [],
            "needs_background": "light"
          }
        }
      ]
    },
    {
      "cell_type": "markdown",
      "metadata": {
        "id": "XsSqq7HAXCVC"
      },
      "source": [
        "# KNN CLASSSIFIER"
      ]
    },
    {
      "cell_type": "code",
      "metadata": {
        "colab": {
          "base_uri": "https://localhost:8080/"
        },
        "id": "1ARg0bhmi5jw",
        "outputId": "110b69a5-da57-4d0c-d63f-d043426ca981"
      },
      "source": [
        "from sklearn.model_selection import GridSearchCV\n",
        "from sklearn.neighbors import KNeighborsClassifier\n",
        "#create new a knn model\n",
        "knn = KNeighborsClassifier()\n",
        "#create a dictionary of all values we want to test for n_neighbors\n",
        "params_knn = {'n_neighbors': np.arange(1, 25)}\n",
        "#use gridsearch to test all values for n_neighbors\n",
        "knn_gs = GridSearchCV(knn, params_knn, cv=5)\n",
        "#fit model to training data\n",
        "knn_gs.fit(Xtrain, Ytrain)\n",
        "\n",
        "#save best model\n",
        "knn_best = knn_gs.best_estimator_\n",
        "#check best n_neigbors value\n",
        "print(knn_gs.best_params_)\n"
      ],
      "execution_count": null,
      "outputs": [
        {
          "output_type": "stream",
          "text": [
            "{'n_neighbors': 4}\n"
          ],
          "name": "stdout"
        }
      ]
    },
    {
      "cell_type": "markdown",
      "metadata": {
        "id": "N0jsPeXPXY7c"
      },
      "source": [
        "Compare all 3\n"
      ]
    },
    {
      "cell_type": "code",
      "metadata": {
        "colab": {
          "base_uri": "https://localhost:8080/"
        },
        "id": "OlJhJ8NYjw-r",
        "outputId": "752ead45-b3af-4d0d-e913-1ec035e7108e"
      },
      "source": [
        "print('knn: {}'.format(knn_best.score(Xtest, Ytest)))\n",
        "print('rf: {}'.format(rf_best.score(Xtest,Ytest)))\n",
        "print('clf: {}'.format(clf.score(Xtest, Ytest)))"
      ],
      "execution_count": null,
      "outputs": [
        {
          "output_type": "stream",
          "text": [
            "knn: 0.9935553168635876\n",
            "rf: 0.9924812030075187\n",
            "clf: 0.9957035445757251\n"
          ],
          "name": "stdout"
        }
      ]
    },
    {
      "cell_type": "markdown",
      "metadata": {
        "id": "mnNwLaRwXHBm"
      },
      "source": [
        "# Ensemble Voting classifier"
      ]
    },
    {
      "cell_type": "code",
      "metadata": {
        "colab": {
          "base_uri": "https://localhost:8080/"
        },
        "id": "mRJUO70FkbkA",
        "outputId": "ff29f92e-5af4-4488-8f9f-d5097e25af29"
      },
      "source": [
        "from sklearn.ensemble import VotingClassifier\n",
        "#create a dictionary of our models\n",
        "estimators=[('knn', knn_best), ('rf', rf_best), ('svm', clf)]\n",
        "#create our voting classifier, inputting our models\n",
        "ensemble = VotingClassifier(estimators, voting='hard')\n",
        "#fit model to training data\n",
        "ensemble.fit(Xtrain, Ytrain)\n",
        "#test our model on the test data\n",
        "ensemble.score(Xtest, Ytest)"
      ],
      "execution_count": null,
      "outputs": [
        {
          "output_type": "execute_result",
          "data": {
            "text/plain": [
              "0.9946294307196563"
            ]
          },
          "metadata": {
            "tags": []
          },
          "execution_count": 83
        }
      ]
    },
    {
      "cell_type": "code",
      "metadata": {
        "id": "9VCV6637qwxk"
      },
      "source": [
        "preds_en=ensemble.predict(Xtest)"
      ],
      "execution_count": null,
      "outputs": []
    },
    {
      "cell_type": "code",
      "metadata": {
        "colab": {
          "base_uri": "https://localhost:8080/",
          "height": 446
        },
        "id": "xyxBjOoDlNNk",
        "outputId": "59e4c18d-742d-4eb8-d950-bf4537e26000"
      },
      "source": [
        "cm5 = confusion_matrix(Ytest, preds_en)\n",
        "sns.heatmap(cm5, annot=True, cbar=False)\n",
        "plt.xlabel('Predicted label')\n",
        "plt.ylabel('True label')\n",
        "plt.title('Confusion Matrix')\n",
        "print(classification_report(Ytest, preds_en))"
      ],
      "execution_count": null,
      "outputs": [
        {
          "output_type": "stream",
          "text": [
            "              precision    recall  f1-score   support\n",
            "\n",
            "           0       1.00      0.99      0.99       436\n",
            "           1       0.99      1.00      0.99       495\n",
            "\n",
            "    accuracy                           0.99       931\n",
            "   macro avg       0.99      0.99      0.99       931\n",
            "weighted avg       0.99      0.99      0.99       931\n",
            "\n"
          ],
          "name": "stdout"
        },
        {
          "output_type": "display_data",
          "data": {
            "image/png": "[encoded data removed]",
            "text/plain": [
              "<Figure size 432x288 with 1 Axes>"
            ]
          },
          "metadata": {
            "tags": [],
            "needs_background": "light"
          }
        }
      ]
    },
    {
      "cell_type": "code",
      "metadata": {
        "id": "Db0_dZl5q7Rj"
      },
      "source": [
        ""
      ],
      "execution_count": null,
      "outputs": []
    }
  ]
}
