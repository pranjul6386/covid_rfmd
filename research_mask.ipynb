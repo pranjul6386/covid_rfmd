{
  "nbformat": 4,
  "nbformat_minor": 0,
  "metadata": {
    "accelerator": "GPU",
    "colab": {
      "name": "research_mask.ipynb",
      "provenance": [],
      "collapsed_sections": [],
      "include_colab_link": true
    },
    "kernelspec": {
      "display_name": "Python 3",
      "name": "python3"
    }
  },
  "cells": [
    {
      "cell_type": "markdown",
      "metadata": {
        "id": "view-in-github",
        "colab_type": "text"
      },
      "source": [
        "<a href=\"https://colab.research.google.com/github/pranjul6386/covid_rfmd/blob/master/research_mask.ipynb\" target=\"_parent\"><img src=\"https://colab.research.google.com/assets/colab-badge.svg\" alt=\"Open In Colab\"/></a>"
      ]
    },
    {
      "cell_type": "code",
      "metadata": {
        "id": "5ZZPM4ywT1vn"
      },
      "source": [
        "!unzip \"/content/drive/My Drive/kaggle_notebooks/RMFD.zip\""
      ],
      "execution_count": null,
      "outputs": []
    },
    {
      "cell_type": "code",
      "metadata": {
        "colab": {
          "base_uri": "https://localhost:8080/"
        },
        "id": "RjYEBKOnQq6u",
        "outputId": "f06df931-0eb0-4b9c-acae-af9d062f6269"
      },
      "source": [
        "from google.colab import drive\n",
        "drive.mount('/content/drive')"
      ],
      "execution_count": null,
      "outputs": [
        {
          "output_type": "stream",
          "text": [
            "Mounted at /content/drive\n"
          ],
          "name": "stdout"
        }
      ]
    },
    {
      "cell_type": "code",
      "metadata": {
        "id": "Og2HlHG4GAoE"
      },
      "source": [
        "import os\n",
        "import numpy as np\n",
        "import cv2\n",
        "import keras\n",
        "\n",
        "\n",
        "from tensorflow.keras.applications.resnet50 import ResNet50\n",
        "import matplotlib.pyplot as plt\n",
        "from keras.models import Model\n",
        "from keras.layers import *\n",
        "from keras import optimizers\n",
        "from tensorflow.keras.applications.resnet50 import preprocess_input, decode_predictions\n",
        "from keras.layers import Input, Dense\n",
        "from keras.models import Sequential\n",
        "from keras.layers import Dense\n",
        "from keras.layers import Dropout\n",
        "from keras.layers import Flatten\n",
        "from keras.layers.convolutional import Conv2D\n",
        "from keras.layers.convolutional import MaxPooling2D\n",
        "from keras.utils import np_utils\n",
        "from sklearn.preprocessing import LabelEncoder\n",
        "from keras.callbacks import ModelCheckpoint"
      ],
      "execution_count": null,
      "outputs": []
    },
    {
      "cell_type": "code",
      "metadata": {
        "colab": {
          "base_uri": "https://localhost:8080/"
        },
        "id": "F3M30F8sF_cQ",
        "outputId": "8ea98936-b3b5-45dd-cb7d-3a9c4cbe7423"
      },
      "source": [
        "img = cv2.imread('/content/images/nomask/benxi/0_0_benxi_0013.jpg', cv2.IMREAD_UNCHANGED)\n",
        " \n",
        "# get dimensions of image\n",
        "dimensions = img.shape\n",
        "\n",
        " \n",
        "# height, width, number of channels in image\n",
        "height = img.shape[0]\n",
        "width = img.shape[1]\n",
        "channels = img.shape[2]\n",
        " \n",
        "print('Image Dimension    : ',dimensions)\n",
        "print('Image Height       : ',height)\n",
        "print('Image Width        : ',width)\n",
        "print('Number of Channels : ',channels)"
      ],
      "execution_count": null,
      "outputs": [
        {
          "output_type": "stream",
          "text": [
            "Image Dimension    :  (127, 125, 3)\n",
            "Image Height       :  127\n",
            "Image Width        :  125\n",
            "Number of Channels :  3\n"
          ],
          "name": "stdout"
        }
      ]
    },
    {
      "cell_type": "code",
      "metadata": {
        "id": "Ad8mTspGG8KN"
      },
      "source": [
        "list_images=[]\n",
        "labels=[]"
      ],
      "execution_count": null,
      "outputs": []
    },
    {
      "cell_type": "code",
      "metadata": {
        "id": "AZss1KwcvNfA"
      },
      "source": [
        "for filename in os.listdir(\"/content/images/mask\"):\n",
        "  for img in os.listdir(\"/content/images/mask\" + \"/\" + filename):\n",
        "    path= str(\"/content/images/mask\" + \"/\"+ filename + \"/\" + img)\n",
        "    try:\n",
        "\n",
        "      image=cv2.imread(path)\n",
        "    except:\n",
        "      print(\"file not found error\")\n",
        "\n",
        "      continue\n",
        "    image=cv2.resize(image,(224,224))\n",
        "    arr=np.array(image)\n",
        "    list_images.append(arr)\n",
        "    labels.append(\"masked\")\n"
      ],
      "execution_count": null,
      "outputs": []
    },
    {
      "cell_type": "code",
      "metadata": {
        "colab": {
          "base_uri": "https://localhost:8080/"
        },
        "id": "Zh8K8YR4HPEn",
        "outputId": "4f9ab40b-9733-4c02-fe0a-24d273407bcc"
      },
      "source": [
        "\n",
        "len(list_images)"
      ],
      "execution_count": null,
      "outputs": [
        {
          "output_type": "execute_result",
          "data": {
            "text/plain": [
              "4653"
            ]
          },
          "metadata": {
            "tags": []
          },
          "execution_count": 23
        }
      ]
    },
    {
      "cell_type": "code",
      "metadata": {
        "id": "btcnRsE6HUuN"
      },
      "source": [
        "labels"
      ],
      "execution_count": null,
      "outputs": []
    },
    {
      "cell_type": "code",
      "metadata": {
        "id": "wu8OgGgJHbum"
      },
      "source": [
        "for filename in os.listdir(\"/content/images/nomask\"):\n",
        "  for img in os.listdir(\"/content/images/nomask\" + \"/\" + filename):\n",
        "    path= str(\"/content/images/nomask\" + \"/\"+ filename + \"/\" + img)\n",
        "    try:\n",
        "\n",
        "      image=cv2.imread(path)\n",
        "    except:\n",
        "      print(\"file not found error\")\n",
        "\n",
        "      continue\n",
        "    image=cv2.resize(image,(224,224))\n",
        "    arr=np.array(image)\n",
        "    list_images.append(arr)\n",
        "    labels.append(\"unmasked\")\n",
        "    if len(list_images)>2000:\n",
        "      break"
      ],
      "execution_count": null,
      "outputs": []
    },
    {
      "cell_type": "code",
      "metadata": {
        "colab": {
          "base_uri": "https://localhost:8080/"
        },
        "id": "Dxlia0KBH7h8",
        "outputId": "8bffa153-3375-4d36-b147-14a3cb9dc8f4"
      },
      "source": [
        "len(list_images)"
      ],
      "execution_count": null,
      "outputs": [
        {
          "output_type": "execute_result",
          "data": {
            "text/plain": [
              "2450"
            ]
          },
          "metadata": {
            "tags": []
          },
          "execution_count": 21
        }
      ]
    },
    {
      "cell_type": "code",
      "metadata": {
        "id": "QTy5cis0INkH"
      },
      "source": [
        "y_train=np.array(labels)\n",
        "labelencoder=LabelEncoder()\n",
        "y_train=labelencoder.fit_transform(y_train)"
      ],
      "execution_count": null,
      "outputs": []
    },
    {
      "cell_type": "code",
      "metadata": {
        "colab": {
          "base_uri": "https://localhost:8080/"
        },
        "id": "UAx2P9YtJESZ",
        "outputId": "06afe1ef-eb80-4e3e-a157-c6e6937ff97d"
      },
      "source": [
        "y_train"
      ],
      "execution_count": null,
      "outputs": [
        {
          "output_type": "execute_result",
          "data": {
            "text/plain": [
              "array([1, 1, 1, ..., 0, 0, 0])"
            ]
          },
          "metadata": {
            "tags": []
          },
          "execution_count": 25
        }
      ]
    },
    {
      "cell_type": "code",
      "metadata": {
        "id": "U6EFp1gIfs-G"
      },
      "source": [
        "class ResNet:\n",
        "\n",
        "\t@staticmethod\n",
        "\tdef residual_module(data, K, stride, chanDim, red=False, reg=0.0001, bnEps=2e-5, bnMom=0.9):\n",
        "   \n",
        "   \n",
        "   \t# the shortcut branch of the ResNet module should be\n",
        "\t# initialize as the input (identity) data\n",
        "   shortcut = data\n",
        "  \n",
        "  \t# the first block of the ResNet module are the 1x1 CONVs\n",
        "   bn1 = BatchNormalization(axis=chanDim, epsilon=bnEps, momentum=bnMom)(data)\n",
        "\n",
        "   act1 = Activation(\"relu\")(bn1)\n",
        "   conv1 = Conv2D(int(K * 0.25), (1, 1), use_bias=False, kernel_regularizer=l2(reg))(act1)\n",
        "   \t# the second block of the ResNet module are the 3x3 CONVs\n",
        "\t bn2 = BatchNormalization(axis=chanDim, epsilon=bnEps, momentum=bnMom)(conv1)\n",
        "\t act2 = Activation(\"relu\")(bn2)\n",
        "\t conv2 = Conv2D(int(K * 0.25), (3, 3), strides=stride, padding=\"same\", use_bias=False, kernel_regularizer=l2(reg)(act2)\n",
        "  \t# the third block of the ResNet module is another set of 1x1 CONVs\n",
        "\t bn3 = BatchNormalization(axis=chanDim, epsilon=bnEps,momentum=bnMom)(conv2)\n",
        "\t act3 = Activation(\"relu\")(bn3)\n",
        "\t conv3 = Conv2D(K, (1, 1), use_bias=False, kernel_regularizer=l2(reg))(act3)\n",
        "  \t# if we are to reduce the spatial size, apply a CONV layer to the shortcut\n",
        "\t if red:\n",
        "\t    shortcut = Conv2D(K, (1, 1), strides=stride, use_bias=False, \n",
        "\t   \t\t kernel_regularizer=l2(reg))(act1)\n",
        "\n",
        "\t# add together the shortcut and the final CONV\n",
        "\t x = add([conv3, shortcut])\n",
        "\n",
        "\t# return the addition as the output of the ResNet module\n",
        "\t return x\n",
        "\n",
        "  @staticmethod\n",
        "  def build(width, height, depth, classes, stages, filters, reg=0.0001, bnEps=2e-5, bnMom=0.9):\n",
        "\n",
        "\n",
        "    \t# initialize the input shape to be \"channels last\" and the\n",
        "\t# channels dimension itself\n",
        "\t  inputShape = (height, width, depth)\n",
        "\t  chanDim = -1\n",
        "\n",
        "\t# if we are using \"channels first\", update the input shape\n",
        "\t# and channels dimension\n",
        "\t  if K.image_data_format() == \"channels_first\":\n",
        "\t\t  inputShape = (depth, height, width)\n",
        "\t\t  chanDim = 1\n",
        "      \t\t# set the input and apply BN\n",
        "\t\t  inputs = Input(shape=inputShape)\n",
        "\t\t  x = BatchNormalization(axis=chanDim, epsilon=bnEps,\n",
        "\t\t\t    momentum=bnMom)(inputs)\n",
        "\n",
        "\t\t# apply CONV => BN => ACT => POOL to reduce spatial size\n",
        "\t\t  x = Conv2D(filters[0], (5, 5), use_bias=False,\n",
        "\t\t\tpadding=\"same\", kernel_regularizer=l2(reg))(x)\n",
        "\t\t  x = BatchNormalization(axis=chanDim, epsilon=bnEps,\n",
        "\t\t\tmomentum=bnMom)(x)\n",
        "\t\t  x = Activation(\"relu\")(x)\n",
        "\t\t  x = ZeroPadding2D((1, 1))(x)\n",
        "\t\t  x = MaxPooling2D((3, 3), strides=(2, 2))(x)\n",
        "    \t# loop over the number of stages\n",
        "\t  for i in range(0, len(stages)):\n",
        "\t\t# initialize the stride, then apply a residual module\n",
        "\t\t# used to reduce the spatial size of the input volume\n",
        "\t\t  stride = (1, 1) if i == 0 else (2, 2)\n",
        "\t\t  x = ResNet.residual_module(x, filters[i + 1], stride,\n",
        "\t\t\t\tchanDim, red=True, bnEps=bnEps, bnMom=bnMom)\n",
        "\n",
        "\t\t# loop over the number of layers in the stage\n",
        "\t\t  for j in range(0, stages[i] - 1):\n",
        "\t\t\t# apply a ResNet module\n",
        "\t\t\t  x = ResNet.residual_module(x, filters[i + 1],\n",
        "\t\t\t\t(1, 1), chanDim, bnEps=bnEps, bnMom=bnMom)\n",
        "      \t# loop over the number of stages\n",
        "        \t# apply BN => ACT => POOL\n",
        "\t  x = BatchNormalization(axis=chanDim, epsilon=bnEps,\n",
        "\t\t\tmomentum=bnMom)(x)\n",
        "\t  x = Activation(\"relu\")(x)\n",
        "\t  x = AveragePooling2D((8, 8))(x)\n",
        "    return x\n",
        "\n",
        "  "
      ],
      "execution_count": null,
      "outputs": []
    },
    {
      "cell_type": "code",
      "metadata": {
        "id": "pJSZlvbXiTej"
      },
      "source": [
        ""
      ],
      "execution_count": null,
      "outputs": []
    },
    {
      "cell_type": "code",
      "metadata": {
        "id": "m7wbQJpe53Q3"
      },
      "source": [
        "base_model = ResNet50(weights= None, include_top=False, input_shape= (224,224,3))"
      ],
      "execution_count": null,
      "outputs": []
    },
    {
      "cell_type": "code",
      "metadata": {
        "colab": {
          "base_uri": "https://localhost:8080/",
          "height": 162
        },
        "id": "n7mVDS3W7YS8",
        "outputId": "2553c7da-fef6-4380-c848-d24e4e9f6850"
      },
      "source": [
        "x=base_model.output"
      ],
      "execution_count": null,
      "outputs": [
        {
          "output_type": "error",
          "ename": "NameError",
          "evalue": "ignored",
          "traceback": [
            "\u001b[0;31m---------------------------------------------------------------------------\u001b[0m",
            "\u001b[0;31mNameError\u001b[0m                                 Traceback (most recent call last)",
            "\u001b[0;32m<ipython-input-1-2b150eedcd45>\u001b[0m in \u001b[0;36m<module>\u001b[0;34m()\u001b[0m\n\u001b[0;32m----> 1\u001b[0;31m \u001b[0mx\u001b[0m\u001b[0;34m=\u001b[0m\u001b[0mbase_model\u001b[0m\u001b[0;34m.\u001b[0m\u001b[0moutput\u001b[0m\u001b[0;34m\u001b[0m\u001b[0;34m\u001b[0m\u001b[0m\n\u001b[0m",
            "\u001b[0;31mNameError\u001b[0m: name 'base_model' is not defined"
          ]
        }
      ]
    },
    {
      "cell_type": "code",
      "metadata": {
        "colab": {
          "base_uri": "https://localhost:8080/"
        },
        "id": "pCpZjhTl7hyQ",
        "outputId": "70c19b80-4470-412d-e3d1-178424e27d69"
      },
      "source": [
        "x"
      ],
      "execution_count": null,
      "outputs": [
        {
          "output_type": "execute_result",
          "data": {
            "text/plain": [
              "<KerasTensor: shape=(None, 7, 7, 2048) dtype=float32 (created by layer 'conv5_block3_out')>"
            ]
          },
          "metadata": {
            "tags": []
          },
          "execution_count": 32
        }
      ]
    },
    {
      "cell_type": "code",
      "metadata": {
        "colab": {
          "base_uri": "https://localhost:8080/"
        },
        "id": "2du9x5q67jNY",
        "outputId": "43bba453-3eed-4006-85c2-09fb54d079bc"
      },
      "source": [
        "base_model.output_shape"
      ],
      "execution_count": null,
      "outputs": [
        {
          "output_type": "execute_result",
          "data": {
            "text/plain": [
              "(None, 7, 7, 2048)"
            ]
          },
          "metadata": {
            "tags": []
          },
          "execution_count": 33
        }
      ]
    },
    {
      "cell_type": "code",
      "metadata": {
        "colab": {
          "background_save": true
        },
        "id": "aC7LHFuSKJiO"
      },
      "source": [
        "model=Sequential()\n",
        "model.add(Conv2D(64,kernel_size=(5,5),input_shape=(128,128,3),activation=\"relu\",))\n",
        "model.add(MaxPooling2D(pool_size=(2,2)))\n",
        "model.add(BatchNormalization())\n",
        "model.add(Conv2D(64,kernel_size=(5,5),activation=\"relu\"))\n",
        "model.add(MaxPooling2D(pool_size=(2,2)))\n",
        "model.add(Conv2D(32,kernel_size=(3,3),activation=\"relu\"))\n",
        "model.add(MaxPooling2D(pool_size=(2,2)))\n",
        "model.add(Conv2D(32,kernel_size=(3,3),activation=\"relu\"))\n",
        "model.add(MaxPooling2D((2,2)))\n",
        "model.add(Dropout(0.2))\n",
        "model.add(Flatten())\n",
        "model.add(Dense(256,activation=\"relu\"))\n",
        "model.add(BatchNormalization())\n",
        "model.add(Dense(128,activation=\"relu\"))\n",
        "model.add(Dense(64,activation=\"relu\"))\n",
        "model.add(Dense(32,activation=\"relu\"))\n",
        "model.add(Dense(1,activation=\"sigmoid\"))\n",
        "model.compile(loss='binary_crossentropy', optimizer='adam', metrics=['accuracy'])"
      ],
      "execution_count": null,
      "outputs": []
    },
    {
      "cell_type": "code",
      "metadata": {
        "id": "iR2yg7zmeUjQ"
      },
      "source": [
        ""
      ],
      "execution_count": null,
      "outputs": []
    },
    {
      "cell_type": "code",
      "metadata": {
        "colab": {
          "background_save": true,
          "base_uri": "https://localhost:8080/"
        },
        "id": "p7D_CGuaOef-",
        "outputId": "1765fb37-346c-4964-8278-4c997e9529ac"
      },
      "source": [
        "model.summary()"
      ],
      "execution_count": null,
      "outputs": [
        {
          "output_type": "stream",
          "text": [
            "Model: \"sequential\"\n",
            "_________________________________________________________________\n",
            "Layer (type)                 Output Shape              Param #   \n",
            "=================================================================\n",
            "conv2d (Conv2D)              (None, 124, 124, 64)      4864      \n",
            "_________________________________________________________________\n",
            "max_pooling2d (MaxPooling2D) (None, 62, 62, 64)        0         \n",
            "_________________________________________________________________\n",
            "batch_normalization (BatchNo (None, 62, 62, 64)        256       \n",
            "_________________________________________________________________\n",
            "conv2d_1 (Conv2D)            (None, 58, 58, 64)        102464    \n",
            "_________________________________________________________________\n",
            "max_pooling2d_1 (MaxPooling2 (None, 29, 29, 64)        0         \n",
            "_________________________________________________________________\n",
            "conv2d_2 (Conv2D)            (None, 27, 27, 32)        18464     \n",
            "_________________________________________________________________\n",
            "max_pooling2d_2 (MaxPooling2 (None, 13, 13, 32)        0         \n",
            "_________________________________________________________________\n",
            "conv2d_3 (Conv2D)            (None, 11, 11, 32)        9248      \n",
            "_________________________________________________________________\n",
            "max_pooling2d_3 (MaxPooling2 (None, 5, 5, 32)          0         \n",
            "_________________________________________________________________\n",
            "dropout (Dropout)            (None, 5, 5, 32)          0         \n",
            "_________________________________________________________________\n",
            "flatten (Flatten)            (None, 800)               0         \n",
            "_________________________________________________________________\n",
            "dense (Dense)                (None, 256)               205056    \n",
            "_________________________________________________________________\n",
            "batch_normalization_1 (Batch (None, 256)               1024      \n",
            "_________________________________________________________________\n",
            "dense_1 (Dense)              (None, 128)               32896     \n",
            "_________________________________________________________________\n",
            "dense_2 (Dense)              (None, 64)                8256      \n",
            "_________________________________________________________________\n",
            "dense_3 (Dense)              (None, 32)                2080      \n",
            "_________________________________________________________________\n",
            "dense_4 (Dense)              (None, 1)                 33        \n",
            "=================================================================\n",
            "Total params: 384,641\n",
            "Trainable params: 384,001\n",
            "Non-trainable params: 640\n",
            "_________________________________________________________________\n"
          ],
          "name": "stdout"
        }
      ]
    },
    {
      "cell_type": "code",
      "metadata": {
        "id": "V8-j2OVNO5Pe"
      },
      "source": [
        "from keras.utils.vis_utils import plot_model\n",
        "plot_model(model, to_file='model_plot.png', show_shapes=True, show_layer_names=True)"
      ],
      "execution_count": null,
      "outputs": []
    },
    {
      "cell_type": "code",
      "metadata": {
        "colab": {
          "base_uri": "https://localhost:8080/"
        },
        "id": "vmy_Gh1BQOgK",
        "outputId": "47418365-4ddb-42ba-9d43-8cdd9259248d"
      },
      "source": [
        "x_data=np.array(list_images)\n",
        "print(x_data.shape)"
      ],
      "execution_count": null,
      "outputs": [
        {
          "output_type": "stream",
          "text": [
            "(4652, 128, 128, 3)\n"
          ],
          "name": "stdout"
        }
      ]
    },
    {
      "cell_type": "code",
      "metadata": {
        "id": "_8ojYN36PnSp"
      },
      "source": [
        "from sklearn.model_selection import train_test_split\n",
        "\n",
        "# Split the data\n",
        "x_train, x_test, y_train, y_test = train_test_split(x_data,y_train, test_size=0.20, shuffle= True)"
      ],
      "execution_count": null,
      "outputs": []
    },
    {
      "cell_type": "code",
      "metadata": {
        "colab": {
          "base_uri": "https://localhost:8080/"
        },
        "id": "RMA09ecsr8KB",
        "outputId": "a9c6bea7-433d-410f-d7d8-12ecdef78211"
      },
      "source": [
        "y_test.shape"
      ],
      "execution_count": null,
      "outputs": [
        {
          "output_type": "execute_result",
          "data": {
            "text/plain": [
              "(931,)"
            ]
          },
          "metadata": {
            "tags": []
          },
          "execution_count": 15
        }
      ]
    },
    {
      "cell_type": "code",
      "metadata": {
        "colab": {
          "base_uri": "https://localhost:8080/"
        },
        "id": "uJBzPFWSr-zb",
        "outputId": "60b0ca25-8827-45cb-ced5-56900d53c384"
      },
      "source": [
        "\n",
        "checkpoint = ModelCheckpoint('model-{epoch:03d}.model',monitor='val_loss',verbose=0,save_best_only=True,mode='auto')\n",
        "history=model.fit(x_train,y_train,epochs=100,callbacks=[checkpoint],validation_split=0.2,batch_size=64,verbose=0)"
      ],
      "execution_count": null,
      "outputs": [
        {
          "output_type": "stream",
          "text": [
            "INFO:tensorflow:Assets written to: model-001.model/assets\n",
            "INFO:tensorflow:Assets written to: model-002.model/assets\n",
            "INFO:tensorflow:Assets written to: model-006.model/assets\n",
            "INFO:tensorflow:Assets written to: model-012.model/assets\n",
            "INFO:tensorflow:Assets written to: model-085.model/assets\n"
          ],
          "name": "stdout"
        }
      ]
    },
    {
      "cell_type": "code",
      "metadata": {
        "id": "iWS0oDQ5PQyt"
      },
      "source": [
        "history=model.fit(x_train, y_train, validation_data=(x_test, y_test),batch_size=64, epochs=100, verbose=0)"
      ],
      "execution_count": null,
      "outputs": []
    },
    {
      "cell_type": "code",
      "metadata": {
        "id": "AYcudPKkIY9G"
      },
      "source": [
        "_, train_acc = model.evaluate(x_train, y_train, verbose=0)\n",
        "_, test_acc = model.evaluate(x_test, y_test, verbose=0)"
      ],
      "execution_count": null,
      "outputs": []
    },
    {
      "cell_type": "code",
      "metadata": {
        "colab": {
          "base_uri": "https://localhost:8080/",
          "height": 295
        },
        "id": "DLI-y41Qg-fi",
        "outputId": "263ab2c3-8360-48c2-aa33-3a8b583562a4"
      },
      "source": [
        "plt.plot(history.history['loss'])\n",
        "plt.plot(history.history['val_loss'])\n",
        "plt.title('model loss')\n",
        "plt.ylabel('loss')\n",
        "plt.xlabel('epoch')\n",
        "plt.legend(['train', 'test'], loc='upper left')\n",
        "plt.show()"
      ],
      "execution_count": null,
      "outputs": [
        {
          "output_type": "display_data",
          "data": {
            "image/png": "[encoded data removed]",
            "text/plain": [
              "<Figure size 432x288 with 1 Axes>"
            ]
          },
          "metadata": {
            "tags": []
          }
        }
      ]
    },
    {
      "cell_type": "code",
      "metadata": {
        "colab": {
          "base_uri": "https://localhost:8080/",
          "height": 295
        },
        "id": "E4gdhIcchyOP",
        "outputId": "e9a8156d-0e6a-4dff-9a9c-fd1c93696c21"
      },
      "source": [
        "plt.plot(history.history['accuracy'])\n",
        "plt.plot(history.history['val_accuracy'])\n",
        "plt.title('model accuracy')\n",
        "plt.ylabel('accuracy')\n",
        "plt.xlabel('epoch')\n",
        "plt.legend(['train', 'test'], loc='upper left')\n",
        "plt.show()"
      ],
      "execution_count": null,
      "outputs": [
        {
          "output_type": "display_data",
          "data": {
            "image/png": "[encoded data removed]",
            "text/plain": [
              "<Figure size 432x288 with 1 Axes>"
            ]
          },
          "metadata": {
            "tags": []
          }
        }
      ]
    },
    {
      "cell_type": "code",
      "metadata": {
        "colab": {
          "base_uri": "https://localhost:8080/"
        },
        "id": "BPko_8m9Kbvp",
        "outputId": "80417ddf-f23d-446f-b59c-68b685d2beba"
      },
      "source": [
        "print(train_acc)\n",
        "print(test_acc)"
      ],
      "execution_count": null,
      "outputs": [
        {
          "output_type": "stream",
          "text": [
            "0.996237576007843\n",
            "0.9881847500801086\n"
          ],
          "name": "stdout"
        }
      ]
    },
    {
      "cell_type": "code",
      "metadata": {
        "colab": {
          "base_uri": "https://localhost:8080/",
          "height": 180
        },
        "id": "uWF9QWfqKg78",
        "outputId": "2782b886-0915-433f-bcfc-0e6e16b1e9da"
      },
      "source": [
        "# plot loss during training\n",
        "from matplotlib import pyplot\n",
        "pyplot.subplot(211)\n",
        "pyplot.title('Loss')\n",
        "pyplot.plot(history.history['loss'], label='train')\n",
        "pyplot.plot(history.history['val_loss'], label='test')\n",
        "pyplot.legend()\n"
      ],
      "execution_count": null,
      "outputs": [
        {
          "output_type": "execute_result",
          "data": {
            "text/plain": [
              "<matplotlib.legend.Legend at 0x7f5b1084ec88>"
            ]
          },
          "metadata": {
            "tags": []
          },
          "execution_count": 37
        },
        {
          "output_type": "display_data",
          "data": {
            "image/png": "[encoded data removed]",
            "text/plain": [
              "<Figure size 432x288 with 1 Axes>"
            ]
          },
          "metadata": {
            "tags": []
          }
        }
      ]
    },
    {
      "cell_type": "code",
      "metadata": {
        "colab": {
          "base_uri": "https://localhost:8080/",
          "height": 163
        },
        "id": "0nC_BdjULv3C",
        "outputId": "3a590dc5-9efe-4d89-b915-3cf2e2b3c2db"
      },
      "source": [
        "# plot accuracy during training\n",
        "pyplot.subplot(212)\n",
        "pyplot.title('Accuracy')\n",
        "pyplot.plot(history.history['accuracy'], label='train')\n",
        "pyplot.plot(history.history['val_accuracy'], label='test')\n",
        "pyplot.legend()\n",
        "pyplot.show()"
      ],
      "execution_count": null,
      "outputs": [
        {
          "output_type": "display_data",
          "data": {
            "image/png": "[encoded data removed]",
            "text/plain": [
              "<Figure size 432x288 with 1 Axes>"
            ]
          },
          "metadata": {
            "tags": []
          }
        }
      ]
    },
    {
      "cell_type": "code",
      "metadata": {
        "id": "koG-7bTHMOKT"
      },
      "source": [
        "from sklearn.metrics import accuracy_score\n",
        "from sklearn.metrics import precision_score\n",
        "from sklearn.metrics import recall_score\n",
        "from sklearn.metrics import f1_score\n",
        "from sklearn.metrics import cohen_kappa_score\n",
        "from sklearn.metrics import roc_auc_score\n",
        "from sklearn.metrics import confusion_matrix"
      ],
      "execution_count": null,
      "outputs": []
    },
    {
      "cell_type": "code",
      "metadata": {
        "colab": {
          "base_uri": "https://localhost:8080/",
          "height": 151
        },
        "id": "fy5NKCJ6MXvl",
        "outputId": "8d5b0a7d-91e5-4215-8317-908f26001491"
      },
      "source": [
        "# accuracy: (tp + tn) / (p + n)\n",
        "yhat_classes = model.predict_classes(x_test, verbose=0)\n",
        "yhat_probs = model.predict(x_test, verbose=0)\n",
        "\n",
        "yhat_probs = yhat_probs[:, 0]\n",
        "yhat_classes = yhat_classes[:, 0]\n",
        "accuracy = accuracy_score(y_test,yhat_classes)\n",
        "print('Accuracy: %f' % accuracy)\n",
        "# precision tp / (tp + fp)\n",
        "precision = precision_score(y_test, yhat_classes)\n",
        "print('Precision: %f' % precision)\n",
        "# recall: tp / (tp + fn)\n",
        "recall = recall_score(y_test, yhat_classes)\n",
        "print('Recall: %f' % recall)\n",
        "# f1: 2 tp / (2 tp + fp + fn)\n",
        "f1 = f1_score(y_test, yhat_classes)\n",
        "print('F1 score: %f' % f1)\n",
        " \n",
        "# kappa\n",
        "kappa = cohen_kappa_score(y_test, yhat_classes)\n",
        "print('Cohens kappa: %f' % kappa)\n",
        "# ROC AUC\n",
        "auc = roc_auc_score(y_test, yhat_probs)\n",
        "print('ROC AUC: %f' % auc)\n",
        "# confusion matrix\n",
        "matrix = confusion_matrix(y_test, yhat_classes)\n",
        "print(matrix)"
      ],
      "execution_count": null,
      "outputs": [
        {
          "output_type": "stream",
          "text": [
            "Accuracy: 0.979592\n",
            "Precision: 0.967347\n",
            "Recall: 0.993711\n",
            "F1 score: 0.980352\n",
            "Cohens kappa: 0.959131\n",
            "ROC AUC: 0.993937\n",
            "[[438  16]\n",
            " [  3 474]]\n"
          ],
          "name": "stdout"
        }
      ]
    },
    {
      "cell_type": "code",
      "metadata": {
        "id": "MnEJ0CLANA9e"
      },
      "source": [
        "from keras.models import model_from_json\n",
        "model_json = model.to_json()\n",
        "with open(\"model_final.json\", \"w\") as json_file:\n",
        "    json_file.write(model_json)\n",
        "# serialize weights to HDF5\n",
        "model.save(\"model_final_rfmd.h5\")"
      ],
      "execution_count": null,
      "outputs": []
    },
    {
      "cell_type": "code",
      "metadata": {
        "colab": {
          "base_uri": "https://localhost:8080/",
          "height": 374
        },
        "id": "pGhPJZ02aW7Z",
        "outputId": "e9d6d161-ef7a-4d96-93b2-f055572fafb3"
      },
      "source": [
        "!pip install pyunpack\n",
        "!pip install patool\n",
        "from pyunpack import Archive\n",
        "Archive('/content/drive/My Drive/lfw_masked.rar').extractall('/content')"
      ],
      "execution_count": null,
      "outputs": [
        {
          "output_type": "stream",
          "text": [
            "Collecting pyunpack\n",
            "  Downloading https://files.pythonhosted.org/packages/33/fd/4b64817a1d82df78553ceb1bfc5a2d7ac162da8667be586430fab9db5deb/pyunpack-0.2.1-py2.py3-none-any.whl\n",
            "Collecting entrypoint2\n",
            "  Downloading https://files.pythonhosted.org/packages/46/0a/6156f1bc14a44094cff75bb6ecefe1f8e8a12cfff66379ba3d52d0916c49/entrypoint2-0.2.1-py2.py3-none-any.whl\n",
            "Collecting easyprocess\n",
            "  Downloading https://files.pythonhosted.org/packages/48/3c/75573613641c90c6d094059ac28adb748560d99bd27ee6f80cce398f404e/EasyProcess-0.3-py2.py3-none-any.whl\n",
            "Collecting argparse\n",
            "  Downloading https://files.pythonhosted.org/packages/f2/94/3af39d34be01a24a6e65433d19e107099374224905f1e0cc6bbe1fd22a2f/argparse-1.4.0-py2.py3-none-any.whl\n",
            "Installing collected packages: argparse, entrypoint2, easyprocess, pyunpack\n",
            "Successfully installed argparse-1.4.0 easyprocess-0.3 entrypoint2-0.2.1 pyunpack-0.2.1\n"
          ],
          "name": "stdout"
        },
        {
          "output_type": "display_data",
          "data": {
            "application/vnd.colab-display-data+json": {
              "pip_warning": {
                "packages": [
                  "argparse"
                ]
              }
            }
          },
          "metadata": {
            "tags": []
          }
        },
        {
          "output_type": "stream",
          "text": [
            "Collecting patool\n",
            "\u001b[?25l  Downloading https://files.pythonhosted.org/packages/43/94/52243ddff508780dd2d8110964320ab4851134a55ab102285b46e740f76a/patool-1.12-py2.py3-none-any.whl (77kB)\n",
            "\r\u001b[K     |████▎                           | 10kB 23.6MB/s eta 0:00:01\r\u001b[K     |████████▌                       | 20kB 1.7MB/s eta 0:00:01\r\u001b[K     |████████████▊                   | 30kB 2.3MB/s eta 0:00:01\r\u001b[K     |█████████████████               | 40kB 2.5MB/s eta 0:00:01\r\u001b[K     |█████████████████████▏          | 51kB 2.0MB/s eta 0:00:01\r\u001b[K     |█████████████████████████▍      | 61kB 2.3MB/s eta 0:00:01\r\u001b[K     |█████████████████████████████▋  | 71kB 2.5MB/s eta 0:00:01\r\u001b[K     |████████████████████████████████| 81kB 2.2MB/s \n",
            "\u001b[?25hInstalling collected packages: patool\n",
            "Successfully installed patool-1.12\n"
          ],
          "name": "stdout"
        }
      ]
    },
    {
      "cell_type": "code",
      "metadata": {
        "id": "DNz_ykVGqtKa"
      },
      "source": [
        "lfw_images=[]\n",
        "count=0"
      ],
      "execution_count": null,
      "outputs": []
    },
    {
      "cell_type": "code",
      "metadata": {
        "id": "yffSyA-AbRmD"
      },
      "source": [
        "for name in os.listdir(\"/content/lfw_masked/lfw_masked\"):\n",
        "  for img in os.listdir(\"/content/lfw_masked/lfw_masked\"+\"/\"+name):\n",
        "    path= str(\"/content/lfw_masked/lfw_masked\" + \"/\"+ name + \"/\" + img)\n",
        "    try:\n",
        "\n",
        "      image=cv2.imread(path)\n",
        "      count+=1\n",
        "    except:\n",
        "      print(\"file not found error\")\n",
        "\n",
        "      continue\n",
        "    image=cv2.resize(image,(128,128))\n",
        "    arr=np.array(image)\n",
        "    lfw_images.append(arr)\n",
        "    if len(lfw_images)>2000:\n",
        "      break\n",
        "\n",
        "    "
      ],
      "execution_count": null,
      "outputs": []
    },
    {
      "cell_type": "code",
      "metadata": {
        "colab": {
          "base_uri": "https://localhost:8080/",
          "height": 34
        },
        "id": "Vb0WNNavrCVS",
        "outputId": "ada42e28-3709-4265-e916-4160bb7ce6af"
      },
      "source": [
        "count"
      ],
      "execution_count": null,
      "outputs": [
        {
          "output_type": "execute_result",
          "data": {
            "text/plain": [
              "6784"
            ]
          },
          "metadata": {
            "tags": []
          },
          "execution_count": 59
        }
      ]
    },
    {
      "cell_type": "code",
      "metadata": {
        "id": "pav5Klr0rrq7"
      },
      "source": [
        "y_lfw=np.ones((6784,1))"
      ],
      "execution_count": null,
      "outputs": []
    },
    {
      "cell_type": "code",
      "metadata": {
        "colab": {
          "base_uri": "https://localhost:8080/",
          "height": 34
        },
        "id": "BCdGpA2JsNis",
        "outputId": "1139906a-9289-4a48-d642-f015cfef7558"
      },
      "source": [
        "lfw_x_test=np.array(lfw_images)\n",
        "lfw_x_test.shape"
      ],
      "execution_count": null,
      "outputs": [
        {
          "output_type": "execute_result",
          "data": {
            "text/plain": [
              "(6784, 128, 128, 3)"
            ]
          },
          "metadata": {
            "tags": []
          },
          "execution_count": 61
        }
      ]
    },
    {
      "cell_type": "code",
      "metadata": {
        "colab": {
          "base_uri": "https://localhost:8080/",
          "height": 188
        },
        "id": "OgLadfRi1_zr",
        "outputId": "46c7da30-c138-4e8e-f386-e7bb771f646f"
      },
      "source": [
        "# accuracy: (tp + tn) / (p + n)\n",
        "yhat_classes_lfw= model.predict_classes(lfw_x_test, verbose=0)\n",
        "yhat_probs_lfw = model.predict(lfw_x_test, verbose=0)\n",
        "\n",
        "yhat_probs_lfw = yhat_probs_lfw[:, 0]\n",
        "yhat_classes_lfw = yhat_classes_lfw[:, 0]\n",
        "accuracy = accuracy_score(y_lfw,yhat_classes_lfw)\n",
        "print('Accuracy: %f' % accuracy)\n",
        "# precision tp / (tp + fp)\n",
        "precision = precision_score(y_lfw, yhat_classes_lfw)\n",
        "print('Precision: %f' % precision)\n",
        "# recall: tp / (tp + fn)\n",
        "recall = recall_score(y_lfw,yhat_classes_lfw)\n",
        "print('Recall: %f' % recall)\n",
        "# f1: 2 tp / (2 tp + fp + fn)\n",
        "f1 = f1_score(y_lfw,yhat_classes_lfw)\n",
        "print('F1 score: %f' % f1)\n",
        " \n",
        "# kappa\n",
        "kappa = cohen_kappa_score(y_lfw,yhat_classes_lfw)\n",
        "print('Cohens kappa: %f' % kappa)\n",
        "\n",
        "# confusion matrix\n",
        "matrix = confusion_matrix(y_lfw,yhat_classes_lfw)\n",
        "print(matrix)"
      ],
      "execution_count": null,
      "outputs": [
        {
          "output_type": "stream",
          "text": [
            "Accuracy: 0.000000\n",
            "Precision: 0.000000\n",
            "Recall: 0.000000\n",
            "F1 score: 0.000000\n",
            "Cohens kappa: 0.000000\n",
            "[[   0    0]\n",
            " [6784    0]]\n"
          ],
          "name": "stdout"
        },
        {
          "output_type": "stream",
          "text": [
            "/usr/local/lib/python3.6/dist-packages/sklearn/metrics/_classification.py:1272: UndefinedMetricWarning: Precision is ill-defined and being set to 0.0 due to no predicted samples. Use `zero_division` parameter to control this behavior.\n",
            "  _warn_prf(average, modifier, msg_start, len(result))\n"
          ],
          "name": "stderr"
        }
      ]
    },
    {
      "cell_type": "code",
      "metadata": {
        "id": "7U8bZwpSsb45"
      },
      "source": [
        "y_hat=model.predict(lfw_x_test)"
      ],
      "execution_count": null,
      "outputs": []
    },
    {
      "cell_type": "code",
      "metadata": {
        "colab": {
          "base_uri": "https://localhost:8080/",
          "height": 134
        },
        "id": "ySfFafwitscW",
        "outputId": "bffa27c6-3365-4655-998b-e1ad276cbe5c"
      },
      "source": [
        "y_hat"
      ],
      "execution_count": null,
      "outputs": [
        {
          "output_type": "execute_result",
          "data": {
            "text/plain": [
              "array([[7.4759732e-18],\n",
              "       [1.4331218e-16],\n",
              "       [9.3767113e-20],\n",
              "       ...,\n",
              "       [4.7183143e-17],\n",
              "       [1.6056265e-16],\n",
              "       [1.7503679e-15]], dtype=float32)"
            ]
          },
          "metadata": {
            "tags": []
          },
          "execution_count": 64
        }
      ]
    },
    {
      "cell_type": "code",
      "metadata": {
        "colab": {
          "base_uri": "https://localhost:8080/",
          "height": 50
        },
        "id": "_jamkBT8uCH2",
        "outputId": "d696c194-9002-4aaf-e544-dc02ff7cacef"
      },
      "source": [
        "yhat_probs_lfw"
      ],
      "execution_count": null,
      "outputs": [
        {
          "output_type": "execute_result",
          "data": {
            "text/plain": [
              "array([7.4759732e-18, 1.4331218e-16, 9.3767113e-20, ..., 4.7183143e-17,\n",
              "       1.6056265e-16, 1.7503679e-15], dtype=float32)"
            ]
          },
          "metadata": {
            "tags": []
          },
          "execution_count": 65
        }
      ]
    },
    {
      "cell_type": "code",
      "metadata": {
        "id": "ykVYnyNY9bVw"
      },
      "source": [
        "yhat_probs_lfw=yhat_probs_lfw.reshape(6784,1)\n"
      ],
      "execution_count": null,
      "outputs": []
    },
    {
      "cell_type": "code",
      "metadata": {
        "colab": {
          "base_uri": "https://localhost:8080/",
          "height": 34
        },
        "id": "89uXGnbJ1N6B",
        "outputId": "56699f7a-5afb-48dc-e2eb-3c45812334e3"
      },
      "source": [
        "y_prediction=np.zeros((6784,1))\n",
        "for i in range(yhat_probs_lfw.shape[0]):\n",
        "  if yhat_probs_lfw[i,0]>0.5:\n",
        "    y_prediction[i,0]=1\n",
        "  else:\n",
        "    y_prediction[i,0]=0\n",
        "\n",
        "print(\"test accuracy: {} %\".format(100 - np.mean(np.abs(y_prediction- y_lfw)) * 100))\n"
      ],
      "execution_count": null,
      "outputs": [
        {
          "output_type": "stream",
          "text": [
            "test accuracy: 0.0 %\n"
          ],
          "name": "stdout"
        }
      ]
    },
    {
      "cell_type": "code",
      "metadata": {
        "colab": {
          "base_uri": "https://localhost:8080/",
          "height": 337
        },
        "id": "1Q72rASgtNVD",
        "outputId": "5350a5e6-e387-4529-8317-93ce86ce34e6"
      },
      "source": [
        "y_pred_class = model.predict(lfw_x_test)\n",
        "from sklearn import metrics\n",
        "print(metrics.accuracy_score(y_lfw, y_pred_class))\n"
      ],
      "execution_count": null,
      "outputs": [
        {
          "output_type": "error",
          "ename": "ValueError",
          "evalue": "ignored",
          "traceback": [
            "\u001b[0;31m---------------------------------------------------------------------------\u001b[0m",
            "\u001b[0;31mValueError\u001b[0m                                Traceback (most recent call last)",
            "\u001b[0;32m<ipython-input-67-09bbe5006eb0>\u001b[0m in \u001b[0;36m<module>\u001b[0;34m()\u001b[0m\n\u001b[1;32m      1\u001b[0m \u001b[0my_pred_class\u001b[0m \u001b[0;34m=\u001b[0m \u001b[0mmodel\u001b[0m\u001b[0;34m.\u001b[0m\u001b[0mpredict\u001b[0m\u001b[0;34m(\u001b[0m\u001b[0mlfw_x_test\u001b[0m\u001b[0;34m)\u001b[0m\u001b[0;34m\u001b[0m\u001b[0;34m\u001b[0m\u001b[0m\n\u001b[1;32m      2\u001b[0m \u001b[0;32mfrom\u001b[0m \u001b[0msklearn\u001b[0m \u001b[0;32mimport\u001b[0m \u001b[0mmetrics\u001b[0m\u001b[0;34m\u001b[0m\u001b[0;34m\u001b[0m\u001b[0m\n\u001b[0;32m----> 3\u001b[0;31m \u001b[0mprint\u001b[0m\u001b[0;34m(\u001b[0m\u001b[0mmetrics\u001b[0m\u001b[0;34m.\u001b[0m\u001b[0maccuracy_score\u001b[0m\u001b[0;34m(\u001b[0m\u001b[0my_lfw\u001b[0m\u001b[0;34m,\u001b[0m \u001b[0my_pred_class\u001b[0m\u001b[0;34m)\u001b[0m\u001b[0;34m)\u001b[0m\u001b[0;34m\u001b[0m\u001b[0;34m\u001b[0m\u001b[0m\n\u001b[0m",
            "\u001b[0;32m/usr/local/lib/python3.6/dist-packages/sklearn/metrics/_classification.py\u001b[0m in \u001b[0;36maccuracy_score\u001b[0;34m(y_true, y_pred, normalize, sample_weight)\u001b[0m\n\u001b[1;32m    183\u001b[0m \u001b[0;34m\u001b[0m\u001b[0m\n\u001b[1;32m    184\u001b[0m     \u001b[0;31m# Compute accuracy for each possible representation\u001b[0m\u001b[0;34m\u001b[0m\u001b[0;34m\u001b[0m\u001b[0;34m\u001b[0m\u001b[0m\n\u001b[0;32m--> 185\u001b[0;31m     \u001b[0my_type\u001b[0m\u001b[0;34m,\u001b[0m \u001b[0my_true\u001b[0m\u001b[0;34m,\u001b[0m \u001b[0my_pred\u001b[0m \u001b[0;34m=\u001b[0m \u001b[0m_check_targets\u001b[0m\u001b[0;34m(\u001b[0m\u001b[0my_true\u001b[0m\u001b[0;34m,\u001b[0m \u001b[0my_pred\u001b[0m\u001b[0;34m)\u001b[0m\u001b[0;34m\u001b[0m\u001b[0;34m\u001b[0m\u001b[0m\n\u001b[0m\u001b[1;32m    186\u001b[0m     \u001b[0mcheck_consistent_length\u001b[0m\u001b[0;34m(\u001b[0m\u001b[0my_true\u001b[0m\u001b[0;34m,\u001b[0m \u001b[0my_pred\u001b[0m\u001b[0;34m,\u001b[0m \u001b[0msample_weight\u001b[0m\u001b[0;34m)\u001b[0m\u001b[0;34m\u001b[0m\u001b[0;34m\u001b[0m\u001b[0m\n\u001b[1;32m    187\u001b[0m     \u001b[0;32mif\u001b[0m \u001b[0my_type\u001b[0m\u001b[0;34m.\u001b[0m\u001b[0mstartswith\u001b[0m\u001b[0;34m(\u001b[0m\u001b[0;34m'multilabel'\u001b[0m\u001b[0;34m)\u001b[0m\u001b[0;34m:\u001b[0m\u001b[0;34m\u001b[0m\u001b[0;34m\u001b[0m\u001b[0m\n",
            "\u001b[0;32m/usr/local/lib/python3.6/dist-packages/sklearn/metrics/_classification.py\u001b[0m in \u001b[0;36m_check_targets\u001b[0;34m(y_true, y_pred)\u001b[0m\n\u001b[1;32m     88\u001b[0m     \u001b[0;32mif\u001b[0m \u001b[0mlen\u001b[0m\u001b[0;34m(\u001b[0m\u001b[0my_type\u001b[0m\u001b[0;34m)\u001b[0m \u001b[0;34m>\u001b[0m \u001b[0;36m1\u001b[0m\u001b[0;34m:\u001b[0m\u001b[0;34m\u001b[0m\u001b[0;34m\u001b[0m\u001b[0m\n\u001b[1;32m     89\u001b[0m         raise ValueError(\"Classification metrics can't handle a mix of {0} \"\n\u001b[0;32m---> 90\u001b[0;31m                          \"and {1} targets\".format(type_true, type_pred))\n\u001b[0m\u001b[1;32m     91\u001b[0m \u001b[0;34m\u001b[0m\u001b[0m\n\u001b[1;32m     92\u001b[0m     \u001b[0;31m# We can't have more than one value on y_type => The set is no more needed\u001b[0m\u001b[0;34m\u001b[0m\u001b[0;34m\u001b[0m\u001b[0;34m\u001b[0m\u001b[0m\n",
            "\u001b[0;31mValueError\u001b[0m: Classification metrics can't handle a mix of binary and continuous targets"
          ]
        }
      ]
    },
    {
      "cell_type": "code",
      "metadata": {
        "colab": {
          "base_uri": "https://localhost:8080/",
          "height": 34
        },
        "id": "XghkPjZ98Fcz",
        "outputId": "dfa6dc6f-9df8-4a51-8f2c-26e66a226544"
      },
      "source": [
        "y_pred_class.shape"
      ],
      "execution_count": null,
      "outputs": [
        {
          "output_type": "execute_result",
          "data": {
            "text/plain": [
              "(6784, 1)"
            ]
          },
          "metadata": {
            "tags": []
          },
          "execution_count": 68
        }
      ]
    },
    {
      "cell_type": "code",
      "metadata": {
        "colab": {
          "base_uri": "https://localhost:8080/",
          "height": 34
        },
        "id": "8TiimPHS8PSt",
        "outputId": "2c461f58-2194-4685-994e-1a351e962ee3"
      },
      "source": [
        "y_lfw.shape"
      ],
      "execution_count": null,
      "outputs": [
        {
          "output_type": "execute_result",
          "data": {
            "text/plain": [
              "(6784, 1)"
            ]
          },
          "metadata": {
            "tags": []
          },
          "execution_count": 70
        }
      ]
    },
    {
      "cell_type": "code",
      "metadata": {
        "id": "N8L9d10b8RhC"
      },
      "source": [
        ""
      ],
      "execution_count": null,
      "outputs": []
    }
  ]
}